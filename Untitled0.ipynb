{
  "nbformat": 4,
  "nbformat_minor": 0,
  "metadata": {
    "colab": {
      "name": "Untitled0.ipynb",
      "provenance": [],
      "authorship_tag": "ABX9TyMg/1cgkR2La8qCqK1Bj+Jd",
      "include_colab_link": true
    },
    "kernelspec": {
      "name": "python3",
      "display_name": "Python 3"
    },
    "language_info": {
      "name": "python"
    }
  },
  "cells": [
    {
      "cell_type": "markdown",
      "metadata": {
        "id": "view-in-github",
        "colab_type": "text"
      },
      "source": [
        "<a href=\"https://colab.research.google.com/github/abdulazizkomilov/02_blog/blob/master/Untitled0.ipynb\" target=\"_parent\"><img src=\"https://colab.research.google.com/assets/colab-badge.svg\" alt=\"Open In Colab\"/></a>"
      ]
    },
    {
      "cell_type": "markdown",
      "metadata": {
        "id": "zloSXilRo__b"
      },
      "source": [
        "**LUG'AT (DICTIONARY) NIMA?**\n",
        "\n",
        "Keling, nima uchun bu ma'lumot turi lug'at (dictionary) deyilishini tushunish uchun, oddiy lu'gatga qaraymiz. \n",
        "# Odatda, lug'atdagi ma'umotlar ikki qismdan iborat bo'ladi: kalit so'z va izoh (yoki tarjima).\n",
        "Xuddi oddiy lug'atlardagi ka'bi Python lug'atidagi ma'lumotlar ham ikki qismdan iborat bo'ladi: \n",
        "# kalit so'z va qiymat (ingliz tilida key-value pair yoki kalit so'z-qiymat juftligi deyiladi).\n",
        "\n",
        "Dasturlashda ko'p ishlatiladigan atamalarni ingliz tilida yodlab qolish juda muhim! \n",
        "Bu sizga kelajakda yangi ma'lumotlar izlashda, xatolar usitda ishlashda va umuman ish faoliyatingizda ko'p asqotadi. \n",
        "**Shuing uchun variable, integer, float, string, list, tuple, dictionary, function, loop, va boshqa so'zlarni yaxshilab o'zlashtirib oling.**\n",
        "\n",
        "**Keling, sodda lug'at yaratamiz:**\n",
        "\n",
        "---\n",
        "\n"
      ]
    },
    {
      "cell_type": "code",
      "metadata": {
        "id": "_QFITy1TpyIk"
      },
      "source": [
        "car_0 = {'model':'ferrari','rang':'qizil'}"
      ],
      "execution_count": null,
      "outputs": []
    },
    {
      "cell_type": "markdown",
      "metadata": {
        "id": "904jez4mp4Qh"
      },
      "source": [
        "Yuqorida car_0 degan lug'at yaratdik. Lu'gatda 2 ta ma'lumot bor: mashinaning **modeli (ferrari)** va **rangi (qizil)**. Bu yerda **'model'** va **'rang'** kalit so'zlar, **'ferrari' va 'qizil'** esa mos keluvchi kalit so'zlarning qiymatlari. **Kalit so'z va qiymat orasi ikki nuqta (:)** bilan, lug'atdagi har bir **juftlik esa vergul (,)** bilan ajratilgan.\n",
        "\n",
        "\n",
        "---\n",
        "**LUG'AT BILAN ISHLASH**\n",
        "\n",
        "Demak, Pytonda lug'at kalit so'z-qiymat juftliklarining yi'ginidisi ekan. Lug'atdagi biror qiymatni ko'rish uchun unga kalit so'z orqali murojat qilamiz:\n",
        "\n"
      ]
    },
    {
      "cell_type": "code",
      "metadata": {
        "id": "6Cj_b_VDqd96"
      },
      "source": [
        "car_0 = {'model':'ferrari','rang':'qizil'}\n",
        "print(car_0['model'])"
      ],
      "execution_count": null,
      "outputs": []
    },
    {
      "cell_type": "markdown",
      "metadata": {
        "id": "aqlrkO83qiTc"
      },
      "source": [
        ">>> **ferrari**"
      ]
    },
    {
      "cell_type": "code",
      "metadata": {
        "id": "2AzyOsMq9Ltg"
      },
      "source": [
        "print(car_0['rang'])"
      ],
      "execution_count": null,
      "outputs": []
    },
    {
      "cell_type": "markdown",
      "metadata": {
        "id": "6kWOvqjz9OhR"
      },
      "source": [
        ">>> **qizil**\n",
        "\n",
        "Lug'atdagi qiymatlar son **(int, float),** matn **(string), ro'yxat (list, tuple, set)** va hatto boshqa **lug'at** ham bo'lishi mumkin.\n"
      ]
    },
    {
      "cell_type": "code",
      "metadata": {
        "id": "GF5dvaCU9oWI"
      },
      "source": [
        "talaba_0 = {'ism':'murod olimov','yosh':20,'t_yil':2000}\n",
        "print(f\"{talaba_0['ism'].title()},\\\n",
        " {talaba_0['t_yil']}-yilda tu'gilgan,\\\n",
        " {talaba_0['yosh']} yoshda\")"
      ],
      "execution_count": null,
      "outputs": []
    },
    {
      "cell_type": "markdown",
      "metadata": {
        "id": "90chkDFA9xO8"
      },
      "source": [
        "**Murod Olimov, 2000-yilda tu'gilgan, 20 yoshda**\n",
        "\n",
        "YANGI JUFTLIK QO'SHISH\n",
        "# Lug'aga yangi kalit so'z va qiymatlar qo'shishimiz ham mumkin. Keling, yuqoridagi talaba_0 nomli lu'gatga yana 2 ta yangi, kurs va fakultet nomli, kalit so'zlar va qiymatlar qo'shamiz:\n"
      ]
    },
    {
      "cell_type": "code",
      "metadata": {
        "id": "jwzAd_3x-Qu_"
      },
      "source": [
        "talaba_0['kurs'] = 4 # yangi, 'kurs' nomli kalit so'zga 4 qiymatini yuklaymiz\n",
        "talaba_0['fakultet'] = 'informatika' # 'fakultet' ga esa 'informatika' \n",
        "#Lug'atni konsolga chiqarib ko'ramiz:\n",
        "\n",
        "print(talaba_0)"
      ],
      "execution_count": null,
      "outputs": []
    },
    {
      "cell_type": "markdown",
      "metadata": {
        "id": "4lmIJSBo-inN"
      },
      "source": [
        "**{'ism': 'murod olimov', 'yosh': 20, 't_yil': 2000, 'kurs': 4, 'fakultet': 'informatika'}**\n",
        "\n",
        "# BO'SH LUG'AT\n",
        "Ba'zida dastur boshida bo'sh lug'at yaratib, dastur davomida lug'atga yangi ma'lumotlar kiritib borish talab qilinishi mumkin. Bundah holatda bo'sh lug'at quyidagicha yaratiladi:\n",
        "\n",
        "**talaba_1 = {}**\n",
        "\n",
        "Dastur davomida esa lug'atga qiymatlar kiritib borilishi mumkin:\n"
      ]
    },
    {
      "cell_type": "code",
      "metadata": {
        "id": "H4y8baoh_Z77"
      },
      "source": [
        "talaba_1['ism'] = 'qobil rasulov'\n",
        "talaba_1['kurs'] = 3\n",
        "talaba_1['yosh'] = 20\n",
        "print(talaba_1)\n",
        "print(f\"Talaba {talaba_1['ism'].title()} {talaba_1['kurs']}-kurs\")"
      ],
      "execution_count": null,
      "outputs": []
    },
    {
      "cell_type": "markdown",
      "metadata": {
        "id": "RLp56RzR_kuJ"
      },
      "source": [
        "**{'ism': 'qobil rasulov', 'kurs': 3, 'yosh': 20}**\n",
        "\n",
        "**Tatalaba_1['ism'] = 'qobil rasulov'**\n",
        "\n",
        "**talaba_1['kurs'] = 3**\n",
        "\n",
        "**talaba_1['yosh'] = 20**\n"
      ]
    },
    {
      "cell_type": "code",
      "metadata": {
        "id": "WsjASYcrAmJ0"
      },
      "source": [
        "print(talaba_1)\n",
        "print(f\"Talaba {talaba_1['ism'].title()} {talaba_1['kurs']}-kurs\")"
      ],
      "execution_count": null,
      "outputs": []
    },
    {
      "cell_type": "markdown",
      "metadata": {
        "id": "d1v32-irAnes"
      },
      "source": [
        ">>> **Talaba Qobil Rasulov 3-kurs**\n",
        "\n",
        "Lug'atga kalit so'zlar qanday ketma-ketlikda kiritilsa, shu ketma-ketlik saqlanib qoladi.\n",
        "\n",
        "**KALIT SO'Z-QIYMAT JUFTLIGINI O'CHIRISH**\n",
        "\n",
        "Lu'gatdagi biror juftlik kerak emas bo'lsa uni del operatori yordamida lug'atdan olib tashlashimiz mumkin:\n"
      ]
    },
    {
      "cell_type": "code",
      "metadata": {
        "id": "3X1kRdRfBFBQ"
      },
      "source": [
        "talaba_0 = {'ism':'murod olimov','yosh':20,'t_yil':2000}\n",
        "print(talaba_0)\n",
        "del talaba_0['yosh'] # yosh degan kalit so'z (va qiymatni) o'chiramiz\n",
        "print(talaba_0)"
      ],
      "execution_count": null,
      "outputs": []
    },
    {
      "cell_type": "markdown",
      "metadata": {
        "id": "qWi2y3PWBc3B"
      },
      "source": [
        ">>> {'ism': 'murod olimov', 'yosh': 20, 't_yil': 2000}\n",
        "\n",
        ">>> {'ism': 'murod olimov', 't_yil': 2000}\n",
        "\n",
        "**LUG'ATNI QATORLARGA BO'LIB YOZISH**\n",
        "\n",
        "Uzung lug'atlarni bir necha qatorga bo'lib yozishimiz ham mumkin. Keling quyidagi misolni ko'ramiz, siz do'stlaringizdan ular qanday telefon ishlatishini so'radingiz va javoblarni bitta lug'atga joylamoqchisiz:\n"
      ]
    },
    {
      "cell_type": "code",
      "metadata": {
        "id": "PmhA1fXsB-Lx"
      },
      "source": [
        "telefonlar = {\n",
        "    'ali':'iphone x',\n",
        "    'vali':'galaxy s9',\n",
        "    'olim':'mi 10 pro',\n",
        "    'orif':'nokia 3310'\n",
        "    }"
      ],
      "execution_count": null,
      "outputs": []
    },
    {
      "cell_type": "markdown",
      "metadata": {
        "id": "VoKNsjGzCMsv"
      },
      "source": [
        "Demak, lug'atni qatorga bo'lib yozish uchun katta qavs ochamiz, yangi qatordan joy tashlab, birinchi klit so'z va qiymatni kiritamiz, qator oxirida vergul qo'yib, yangi qatordan keyingi juftlikni yozamiz va hokazo. Oxirgi juftlikdan so'ng vergul qo'ymasdan qator tashlab, katta qavsni yopamiz.\n",
        "\n",
        "Lug'atlarning ishlatilish doirasi juda keng va sizning yondoshuvingizga bog'liq xolos. Yuqoridagi lug'atga ham e'tibor qilsangiz, biz bir narsa (shaxs, avto) haqida ko'p ma'lumotlarni emas, ko'pchilik haqida bir hil ma'lumotlarni saqladik.\n",
        "\n",
        "**.get() METODI**\n",
        "\n",
        "Biz shu vaqtgacha lug'atdagi qiymatlarni ko'rish uchun to'g'ridan-to'g'ri kalit so'z orqali murojat qilayotgan edik. Bu usulning kamchiligi shundaki, agar lug'atda siz so'ragan kalit topilmasa, dastur KeyError xatoligi bilan to'xtab qoladi."
      ]
    },
    {
      "cell_type": "code",
      "metadata": {
        "id": "7l6kO0qDDFWa"
      },
      "source": [
        "phone = telefonlar['ali']\n",
        "print(f\"Alining telefoni {phone}\")"
      ],
      "execution_count": null,
      "outputs": []
    },
    {
      "cell_type": "markdown",
      "metadata": {
        "id": "iHXJhHvtDWL1"
      },
      "source": [
        ">>> **Alining telefoni iphone x**"
      ]
    },
    {
      "cell_type": "code",
      "metadata": {
        "id": "0puBvuF3D01_"
      },
      "source": [
        "phone = telefonlar['hasan']\n",
        "print(f\"Hasanning telefoni {phone}\")"
      ],
      "execution_count": null,
      "outputs": []
    },
    {
      "cell_type": "markdown",
      "metadata": {
        "id": "MnD-EFblD3ym"
      },
      "source": [
        "---------------------------------------------------------------------------\n",
        "**KeyError  **                              \n",
        "Traceback (most recent call last)\n",
        "\n",
        "**ipython-input-15-c38ca1592803**    in    **module**\n",
        "\n",
        "1 phone = telefonlar['hasan']\n",
        "\n",
        "2 print(f\"Hasanning telefoni {phone}\")\n",
        "\n",
        "```\n",
        "\n",
        "```\n",
        "\n",
        "KeyError: 'hasan'\n",
        "\n",
        "Lug'atda 'hasan' kalit so'zi bo'lmagani uchun, yuqoridagi kod KeyError degan xatoni qaytardi. KeyError ham Run time error qatoriga kiradi.\n",
        "\n",
        "Biz kelgusi darslarimizda Pythondagi xatolarni dastur bajarilishi jarayonida \"tutib olishni\" o'rganamiz. Hozircha esa get() metodi yordamida lug'atga murojat qilish va mavjud bolmagan kalitning o'rniga biror xabar qaytarishni ko'raylik.\n",
        "\n",
        "**phone = telefonlar.get('hasan','Bunday ism mavjud emas')**\n",
        "\n",
        "Yuqorida, lug'at nomidan so'ng .get() metodini yozdik, va argumentlar sifatida kalit so'z ('hasan') va kalit mavjud bo'lmaganda chiqadigan xabarni yozdik ('Bunday ism mavjud emas').\n",
        "\n",
        "print(phone)\n",
        "\n",
        "Bunday ism mavjud emas\n",
        "Agar .get() metodida ikkinchi argumentni tashlab ketsangiz, va kalit mavjud bo'lmasa .get() metodi None degan qiymatni qaytaradi. None - qiymat mavjud emas degan ma'noni beradi.\n",
        "\n",
        "**phone = telefonlar.get('hasan')**\n",
        "\n",
        "**print(phone)**"
      ]
    },
    {
      "cell_type": "markdown",
      "metadata": {
        "id": "5WQ8A1nXFnki"
      },
      "source": [
        "**None**"
      ]
    }
  ]
}