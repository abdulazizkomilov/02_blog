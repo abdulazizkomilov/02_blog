{
  "nbformat": 4,
  "nbformat_minor": 0,
  "metadata": {
    "colab": {
      "name": "lugatlarjavob.ipynb",
      "provenance": [],
      "authorship_tag": "ABX9TyOyRgyLIgTDfZ/HHulh2b7o",
      "include_colab_link": true
    },
    "kernelspec": {
      "name": "python3",
      "display_name": "Python 3"
    },
    "language_info": {
      "name": "python"
    }
  },
  "cells": [
    {
      "cell_type": "markdown",
      "metadata": {
        "id": "view-in-github",
        "colab_type": "text"
      },
      "source": [
        "<a href=\"https://colab.research.google.com/github/abdulazizkomilov/02_blog/blob/master/lugatlarjavob.ipynb\" target=\"_parent\"><img src=\"https://colab.research.google.com/assets/colab-badge.svg\" alt=\"Open In Colab\"/></a>"
      ]
    },
    {
      "cell_type": "markdown",
      "metadata": {
        "id": "jwjL4O5YG6Wh"
      },
      "source": [
        "* otam (onam, akam, ukam, va hokazo) degan lug'at yarating va lug'atga shu inson \n",
        "haqida kamida 3 ta m'alumot kiriting (ismi, tu'gilgan yili, shahri, manzili va hokazo). \n",
        "\n",
        "Lug'atdagi ma'lumotni matn shaklida konsolga chiqaring: \n",
        "\n",
        "\n",
        "---\n",
        "\n",
        "\n",
        "**Otamning ismi Mavlutdin, 1954-yilda, Samarqand viloyatida tug'ilgan**"
      ]
    },
    {
      "cell_type": "code",
      "metadata": {
        "id": "vyY0CprzG7-d"
      },
      "source": [
        "otam = {'ismi':'mavlutdin', 'tyil':1954,'viloyat':'samarqand'}\n",
        "tyil = otam['tyil']\n",
        "vil = otam['viloyat']\n",
        "print(f\"Otamning ismi {otam['ismi'].title()}, {tyil}-yilda, {vil.title()} viloyatida tug'ilgan\")"
      ],
      "execution_count": null,
      "outputs": []
    },
    {
      "cell_type": "markdown",
      "metadata": {
        "id": "ggCjezGxG8ex"
      },
      "source": [
        "\n",
        "* Oila a'zolaringizning sevimli taomlari lug'atini tuzing. Lug'atda kamida 5 ta ism-taom jufltigi bo'lsin. \n",
        "\n",
        "Kamida uch kishining sevimli taomini konsolga chiqaring: \n",
        "\n",
        "\n",
        "---\n",
        "\n",
        "\n",
        "\n",
        "**Alining sevimli taomi osh**"
      ]
    },
    {
      "cell_type": "code",
      "metadata": {
        "id": "cskGjxffG9oy"
      },
      "source": [
        "taomlar = {\n",
        "    'ali':'osh',\n",
        "    'vali':'shashlik',\n",
        "    'hasan':\"lag'mon\",\n",
        "    'husan':\"mastava\",\n",
        "    'olim':\"somsa\"\n",
        "    }\n",
        "\n",
        "taom = taomlar['ali']\n",
        "print(f\"Alining sevimli taomi {taom}\")"
      ],
      "execution_count": null,
      "outputs": []
    },
    {
      "cell_type": "markdown",
      "metadata": {
        "id": "Feha2RKEG99a"
      },
      "source": [
        "* Python izohli lu'gati tuzing: \n",
        "\n",
        "\n",
        "---\n",
        "\n",
        "\n",
        "\n",
        "Lug'atga shu kunga qadar o'rgangan 10 ta so'z (atamani) kiriting (masalan **integer, float, string, if, else** va hokazo) va har birining qisqacha tarjimasini yozing."
      ]
    },
    {
      "cell_type": "code",
      "metadata": {
        "id": "_SBRmjLNG-WI"
      },
      "source": [
        "python_izohli_lugati = {\n",
        "    'integer':\"Butun son\",\n",
        "    'float':\"O'nlik son\",\n",
        "    'string':\"Matn\",\n",
        "    'list':\"Ro'yxat\",\n",
        "    'tuple':\"O'zgarmas ro'yxat\"}\n",
        "# print(python_izohli_lugati['tuple'])\n",
        "\n",
        "kalit = input(\"Kalit so'z kiriting:\").lower()\n",
        "print(python_izohli_lugati.get(kalit,\"Bunday so'z mavjud emas\"))"
      ],
      "execution_count": null,
      "outputs": []
    },
    {
      "cell_type": "markdown",
      "metadata": {
        "id": "othPSwkNIbgd"
      },
      "source": [
        "* Foydalanuvchidan biror so'z kiritishni so'rang va so'zning tarjimasini yuqoridagi lug'atdan chiqarib bering. Agar so'z lu'gatda mavjud bo'lmasa, **\"Bunda so'z mavjud emas\"** degan xabarni chiqaring.\n",
        "\n",
        "\n",
        "---\n",
        "\n",
        "\n",
        "\n",
        "**Yuqoridagi vazifani if-else yordamida qiling va natijani ham foydalanuvchiga tushunarli ko'rinishda chiqaring.**"
      ]
    },
    {
      "cell_type": "code",
      "metadata": {
        "id": "VveaQLMkIbzn"
      },
      "source": [
        "kalit = input(\"Kalit so'z kiriting:\").lower()\n",
        "tarjima = python_izohli_lugati.get(kalit)\n",
        "if tarjima==None:\n",
        "    print(\"Bunday so'z mavjud emas\")\n",
        "else:\n",
        "    print(f\"{kalit.title()} so'zi {tarjima} deb tarjima qilinadi\")\n",
        "    "
      ],
      "execution_count": null,
      "outputs": []
    }
  ]
}